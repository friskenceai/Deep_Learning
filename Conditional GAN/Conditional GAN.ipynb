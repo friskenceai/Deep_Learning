{
 "cells": [
  {
   "cell_type": "code",
   "execution_count": 1,
   "id": "9b591dde-662c-4002-84cb-db3cc193abbe",
   "metadata": {},
   "outputs": [
    {
     "name": "stderr",
     "output_type": "stream",
     "text": [
      "2024-10-03 22:36:26.707447: E external/local_xla/xla/stream_executor/cuda/cuda_fft.cc:485] Unable to register cuFFT factory: Attempting to register factory for plugin cuFFT when one has already been registered\n",
      "2024-10-03 22:36:26.783283: E external/local_xla/xla/stream_executor/cuda/cuda_dnn.cc:8454] Unable to register cuDNN factory: Attempting to register factory for plugin cuDNN when one has already been registered\n",
      "2024-10-03 22:36:26.805755: E external/local_xla/xla/stream_executor/cuda/cuda_blas.cc:1452] Unable to register cuBLAS factory: Attempting to register factory for plugin cuBLAS when one has already been registered\n",
      "2024-10-03 22:36:26.957664: I tensorflow/core/platform/cpu_feature_guard.cc:210] This TensorFlow binary is optimized to use available CPU instructions in performance-critical operations.\n",
      "To enable the following instructions: AVX2 FMA, in other operations, rebuild TensorFlow with the appropriate compiler flags.\n",
      "2024-10-03 22:36:28.185055: W tensorflow/compiler/tf2tensorrt/utils/py_utils.cc:38] TF-TRT Warning: Could not find TensorRT\n"
     ]
    }
   ],
   "source": [
    "import tensorflow as tf\n",
    "import os\n",
    "import warnings\n",
    "\n",
    "# Ignore all warnings\n",
    "os.environ['TF_CPP_MIN_LOG_LEVEL'] = '3'  # Suppress TensorFlow logging (0 = all logs, 1 = warnings, 2 = errors, 3 = nothing)\n",
    "warnings.filterwarnings('ignore')  # Ignore all Python warnings\n",
    "tf.get_logger().setLevel('ERROR')  # Disable TensorFlow warnings\n"
   ]
  },
  {
   "cell_type": "markdown",
   "id": "33b6a99c-ec7f-450d-8eb6-6ce9c28c2d93",
   "metadata": {},
   "source": [
    "# Imports"
   ]
  },
  {
   "cell_type": "code",
   "execution_count": 2,
   "id": "4c89c29d-f6a7-456c-a06c-9165d2c6cdc4",
   "metadata": {},
   "outputs": [],
   "source": [
    "import keras\n",
    "\n",
    "from keras import layers\n",
    "from keras import ops\n",
    "from tensorflow_docs.vis import embed\n",
    "import tensorflow as tf\n",
    "import numpy as np\n",
    "import imageio"
   ]
  },
  {
   "cell_type": "markdown",
   "id": "60b48bf9-1321-4a53-9a91-1abd03f7d7b4",
   "metadata": {},
   "source": [
    "# Constants and Hyperparameters"
   ]
  },
  {
   "cell_type": "code",
   "execution_count": 3,
   "id": "bfa468cb-de3c-4a23-8c90-2772d284ec22",
   "metadata": {},
   "outputs": [],
   "source": [
    "batch_size = 64\n",
    "num_channels=1 #colorscale\n",
    "num_classes=10\n",
    "image_size=28\n",
    "latent_dim = 128 #size of input noise vector"
   ]
  },
  {
   "cell_type": "markdown",
   "id": "ae66a153-3591-496d-b9d2-a162205f3bac",
   "metadata": {},
   "source": [
    "# Loading MNIST and preprocess it"
   ]
  },
  {
   "cell_type": "code",
   "execution_count": 4,
   "id": "7214e862-7dc3-45eb-ac08-916d3872f487",
   "metadata": {},
   "outputs": [
    {
     "name": "stderr",
     "output_type": "stream",
     "text": [
      "WARNING: All log messages before absl::InitializeLog() is called are written to STDERR\n",
      "I0000 00:00:1727975193.993636     761 cuda_executor.cc:1001] could not open file to read NUMA node: /sys/bus/pci/devices/0000:01:00.0/numa_node\n",
      "Your kernel may have been built without NUMA support.\n",
      "I0000 00:00:1727975194.204330     761 cuda_executor.cc:1001] could not open file to read NUMA node: /sys/bus/pci/devices/0000:01:00.0/numa_node\n",
      "Your kernel may have been built without NUMA support.\n",
      "I0000 00:00:1727975194.204385     761 cuda_executor.cc:1001] could not open file to read NUMA node: /sys/bus/pci/devices/0000:01:00.0/numa_node\n",
      "Your kernel may have been built without NUMA support.\n",
      "I0000 00:00:1727975194.206918     761 cuda_executor.cc:1001] could not open file to read NUMA node: /sys/bus/pci/devices/0000:01:00.0/numa_node\n",
      "Your kernel may have been built without NUMA support.\n",
      "I0000 00:00:1727975194.206975     761 cuda_executor.cc:1001] could not open file to read NUMA node: /sys/bus/pci/devices/0000:01:00.0/numa_node\n",
      "Your kernel may have been built without NUMA support.\n",
      "I0000 00:00:1727975194.207012     761 cuda_executor.cc:1001] could not open file to read NUMA node: /sys/bus/pci/devices/0000:01:00.0/numa_node\n",
      "Your kernel may have been built without NUMA support.\n",
      "I0000 00:00:1727975194.393649     761 cuda_executor.cc:1001] could not open file to read NUMA node: /sys/bus/pci/devices/0000:01:00.0/numa_node\n",
      "Your kernel may have been built without NUMA support.\n",
      "I0000 00:00:1727975194.393737     761 cuda_executor.cc:1001] could not open file to read NUMA node: /sys/bus/pci/devices/0000:01:00.0/numa_node\n",
      "Your kernel may have been built without NUMA support.\n",
      "2024-10-03 22:36:34.393748: I tensorflow/core/common_runtime/gpu/gpu_device.cc:2112] Could not identify NUMA node of platform GPU id 0, defaulting to 0.  Your kernel may not have been built with NUMA support.\n",
      "I0000 00:00:1727975194.393810     761 cuda_executor.cc:1001] could not open file to read NUMA node: /sys/bus/pci/devices/0000:01:00.0/numa_node\n",
      "Your kernel may have been built without NUMA support.\n",
      "2024-10-03 22:36:34.394386: I tensorflow/core/common_runtime/gpu/gpu_device.cc:2021] Created device /job:localhost/replica:0/task:0/device:GPU:0 with 1767 MB memory:  -> device: 0, name: NVIDIA GeForce RTX 3050 Laptop GPU, pci bus id: 0000:01:00.0, compute capability: 8.6\n"
     ]
    },
    {
     "name": "stdout",
     "output_type": "stream",
     "text": [
      "Shape of training images: (70000, 28, 28, 1)\n",
      "Shape of training labels: (70000, 10)\n"
     ]
    }
   ],
   "source": [
    "# We'll use all the available examples from both the training and test\n",
    "# sets.\n",
    "(x_train, y_train), (x_test, y_test) = keras.datasets.mnist.load_data()\n",
    "all_digits = np.concatenate([x_train, x_test])\n",
    "all_labels = np.concatenate([y_train, y_test])\n",
    "\n",
    "# Scale the pixel values to [0, 1] range, add a channel dimension to\n",
    "# the images, and one-hot encode the labels.\n",
    "all_digits = all_digits.astype(\"float32\") / 255.0\n",
    "all_digits = np.reshape(all_digits, (-1, 28, 28, 1))\n",
    "all_labels = keras.utils.to_categorical(all_labels, 10)\n",
    "\n",
    "# Create tf.data.Dataset.\n",
    "dataset = tf.data.Dataset.from_tensor_slices((all_digits, all_labels))\n",
    "dataset = dataset.shuffle(buffer_size=1024).batch(batch_size)\n",
    "\n",
    "print(f\"Shape of training images: {all_digits.shape}\")\n",
    "print(f\"Shape of training labels: {all_labels.shape}\")"
   ]
  },
  {
   "cell_type": "markdown",
   "id": "0be29267-a20f-4aa1-9f9a-d6f9a6012150",
   "metadata": {},
   "source": [
    "# Calculate no.of input channels"
   ]
  },
  {
   "cell_type": "markdown",
   "id": "c6d277fa-d26a-4d7a-8447-a6f56e7d7886",
   "metadata": {},
   "source": [
    "In a regular (unconditional) GAN, we start by sampling noise (of some fixed dimension) from a normal distribution. In our case, we also need to account for the class labels. We will have to add the number of classes to the input channels of the generator (noise input) as well as the discriminator (generated image input)."
   ]
  },
  {
   "cell_type": "code",
   "execution_count": 5,
   "id": "1abcc71a-1d0e-474f-840d-7bff3455734d",
   "metadata": {},
   "outputs": [
    {
     "name": "stdout",
     "output_type": "stream",
     "text": [
      "138 11\n"
     ]
    }
   ],
   "source": [
    "generator_input_channels = latent_dim + num_classes\n",
    "discriminator_input_channels = num_channels+num_classes\n",
    "print(generator_input_channels,discriminator_input_channels)"
   ]
  },
  {
   "cell_type": "markdown",
   "id": "968ba863-61ea-4da1-af4a-4b2f394a2038",
   "metadata": {},
   "source": [
    "# Create Generator and Discriminator"
   ]
  },
  {
   "cell_type": "code",
   "execution_count": 6,
   "id": "a9d94a0c-1956-4e64-a163-f00f45a93d55",
   "metadata": {},
   "outputs": [],
   "source": [
    "generator = keras.Sequential(name=\"generator\")\n",
    "\n",
    "#ip layer\n",
    "generator.add(layers.InputLayer((generator_input_channels,)))\n",
    "\n",
    "#dense layer\n",
    "generator.add(layers.Dense(7*7*generator_input_channels))\n",
    "generator.add(layers.LeakyReLU(negative_slope=0.2))\n",
    "assert generator.output_shape == (None,7*7*generator_input_channels)\n",
    "\n",
    "#Reshape layer\n",
    "generator.add(layers.Reshape((7,7,generator_input_channels)))\n",
    "assert generator.output_shape == (None,7,7,generator_input_channels)\n",
    "\n",
    "#Frst Transposed Convolution\n",
    "generator.add(layers.Conv2DTranspose(128,(4,4),strides=(2,2),padding='same'))\n",
    "generator.add(layers.LeakyReLU(negative_slope=.2))\n",
    "assert generator.output_shape == (None,14,14,128)\n",
    "\n",
    "#Frst Transposed Convolution\n",
    "generator.add(layers.Conv2DTranspose(128,(4,4),strides=(2,2),padding='same'))\n",
    "generator.add(layers.LeakyReLU(negative_slope=.2))\n",
    "assert generator.output_shape == (None,28,28,128)\n",
    "\n",
    "#Final Conv2d layer\n",
    "generator.add(layers.Conv2D(1,(7,7),padding=\"same\",activation=\"sigmoid\"))\n",
    "assert generator.output_shape == (None,28,28,1)\n",
    "\n"
   ]
  },
  {
   "cell_type": "code",
   "execution_count": 7,
   "id": "a09cfb8f-5d54-4c63-b589-38dbff1eb19e",
   "metadata": {},
   "outputs": [],
   "source": [
    "discriminator = keras.Sequential(name=\"discriminator\")\n",
    "\n",
    "#inpt layer\n",
    "discriminator.add(layers.InputLayer((28,28,discriminator_input_channels)))\n",
    "\n",
    "#conv layer 1\n",
    "discriminator.add(layers.Conv2D(64,(3,3),strides=(2,2),padding=\"same\"))\n",
    "discriminator.add(layers.LeakyReLU(negative_slope=0.2))\n",
    "assert discriminator.output_shape == (None,14,14,64)\n",
    "\n",
    "#conv layer 2\n",
    "discriminator.add(layers.Conv2D(128,(3,3),strides=(2,2),padding=\"same\"))\n",
    "discriminator.add(layers.LeakyReLU(negative_slope=0.2))\n",
    "assert discriminator.output_shape == (None,7,7,128)\n",
    "\n",
    "discriminator.add(layers.GlobalMaxPooling2D()) #takes max from each 7*7 image for 128 images\n",
    "assert discriminator.output_shape == (None, 128)\n",
    "\n",
    "discriminator.add(layers.Dense(1))"
   ]
  },
  {
   "cell_type": "markdown",
   "id": "498fb4ff-8bf2-4b3a-b075-a19cb2335663",
   "metadata": {},
   "source": [
    "# Creating a ConditionalGAN model"
   ]
  },
  {
   "cell_type": "code",
   "execution_count": 104,
   "id": "e23592b1-f684-4185-9117-4c72a664f4ab",
   "metadata": {},
   "outputs": [],
   "source": [
    "class ConditionalGAN(keras.Model):\n",
    "    def __init__(self,discriminator,generator,latent_dim):\n",
    "        super().__init__()\n",
    "        self.discriminator = discriminator\n",
    "        self.generator = generator\n",
    "        self.latent_dim = latent_dim\n",
    "        self.seed_generator = keras.random.SeedGenerator(1337)\n",
    "        self.gen_loss_tracker = keras.metrics.Mean(name = \"generator_loss\")\n",
    "        self.disc_loss_tracker = keras.metrics.Mean(name=\"discriminator_loss\")\n",
    "\n",
    "    @property\n",
    "    def metrics(self):\n",
    "        return [self.gen_loss_tracker,self.disc_loss_tracker]\n",
    "\n",
    "    def compile(self,d_optimizer,g_optimizer,loss_fn):\n",
    "        super().compile()\n",
    "        self.d_optimizer = d_optimizer\n",
    "        self.g_optimizer = g_optimizer\n",
    "        self.loss_fn = loss_fn\n",
    "\n",
    "    def train_step(self,data):\n",
    "        #unpack\n",
    "        real_image,one_hot_labels = data\n",
    "\n",
    "        #add dummy dimentnios to lables to concat with images\n",
    "        image_one_hot_labels = one_hot_labels[:,:,None,None] #adds 2 extra dim at end.(ex:(3,3,1,1))\n",
    "        #make label for every pixel of image\n",
    "        image_one_hot_labels = ops.repeat(\n",
    "            image_one_hot_labels,repeats = [image_size*image_size]\n",
    "        )\n",
    "        \n",
    "        image_one_hot_labels = ops.reshape( #-1 for flexible batch size, new shape ex:(-1,28,28,3)\n",
    "            image_one_hot_labels,newshape=(-1,image_size,image_size,num_classes))\n",
    "\n",
    "        #create sample noise for generator\n",
    "        batch_size = ops.shape(real_image)[0]\n",
    "        random_latent_vectors = keras.random.normal(\n",
    "            shape=(batch_size,self.latent_dim),seed = self.seed_generator\n",
    "        )\n",
    "        random_vector_labels = ops.concatenate(\n",
    "            [random_latent_vectors,one_hot_labels],axis=1\n",
    "        )\n",
    "        \n",
    "        generated_images = self.generator(random_vector_labels)\n",
    "\n",
    "        #concat and prepare datase for discriminator training\n",
    "        fake_images_and_lables = ops.concatenate(\n",
    "            [generated_images,image_one_hot_labels],-1\n",
    "        )\n",
    "\n",
    "        real_images_and_labels = ops.concatenate(\n",
    "            [real_image,image_one_hot_labelsne_hot_labels],-1\n",
    "        )\n",
    "\n",
    "        combined_images = ops.concatenate(\n",
    "            [fake_images_and_lables,real_images_and_labels],axis=0\n",
    "        )\n",
    "\n",
    "        labels = ops.concatenate(\n",
    "            [ops.ones((batch_size,1)),ops.zeros((batch_size,1))],axis=0\n",
    "        )\n",
    "\n",
    "        #train discriminator\n",
    "        with tf.GradientTape() as tape:\n",
    "            predictions = self.discriminator(combined_images)\n",
    "            d_loss = self.loss_fn(labels,predictions)\n",
    "        grads = tape.gradient(d_loss,self.discriminator.trainable_weights)\n",
    "        self.d_optimizer.apply_gradients(\n",
    "            zip(grads,self.discriminator.trainable_weights)\n",
    "            )          \n",
    "\n",
    "        #samples for generator\n",
    "        random_latent_vectors = keras.random.normal(\n",
    "            shape=(batch_size,self.latent_dim),seed=self.seed_generator\n",
    "        )\n",
    "        random_vector_labels = ops.concatenate(\n",
    "            [random_latent_vectors,one_hot_labels],axis=1\n",
    "        )\n",
    "\n",
    "        misleading_labels = ops.zeros((batch_size,1))\n",
    "\n",
    "        with tf.GradientTape as tape:\n",
    "            fake_images = self.generator(random_vector_labels)\n",
    "            fake_images_and_lables = ops.concatenate(\n",
    "                [fake_images,image_one_hot_labels],-1\n",
    "            )\n",
    "            predictions = self.discriminator(fake_images_and_lables)\n",
    "            g_loss = self.loss_fn(misleading_labels,predictions)\n",
    "        grads = tape.gradient(g_loss,self.generator.trainable_weights)\n",
    "        self.g_optimizer.apply_gradients(zip(grads,self.generator.trainable_weights))\n",
    "\n",
    "        #Monitor the loss\n",
    "        self.gen_loss_tracker.update_state(g_loss)\n",
    "        self.disc_loss_tracker.update_state(d_loss)\n",
    "\n",
    "        return{\n",
    "            \"g_loss\": self.gen_loss_tracker.result(),\n",
    "            \"d_loss\":self.disc_loss_tracker.result(),\n",
    "        }\n",
    "        "
   ]
  },
  {
   "cell_type": "markdown",
   "id": "4924b016-51a3-4bc8-a905-3a746d425b9f",
   "metadata": {},
   "source": [
    "# Train the conditional GAN"
   ]
  },
  {
   "cell_type": "code",
   "execution_count": 105,
   "id": "dbb79b36-2a1a-49a9-a146-95f255cdb0d9",
   "metadata": {},
   "outputs": [
    {
     "name": "stdout",
     "output_type": "stream",
     "text": [
      "\u001b[1m1094/1094\u001b[0m \u001b[32m━━━━━━━━━━━━━━━━━━━━\u001b[0m\u001b[37m\u001b[0m \u001b[1m40s\u001b[0m 34ms/step - d_loss: 0.6482 - g_loss: 0.7894\n"
     ]
    },
    {
     "data": {
      "text/plain": [
       "<keras.src.callbacks.history.History at 0x7f077e1973d0>"
      ]
     },
     "execution_count": 105,
     "metadata": {},
     "output_type": "execute_result"
    }
   ],
   "source": [
    "cond_gan = ConditionalGAN(\n",
    "    discriminator=discriminator,generator=generator,latent_dim=latent_dim\n",
    ")\n",
    "\n",
    "cond_gan.compile(\n",
    "    d_optimizer= keras.optimizers.Adam(learning_rate=0.0003),\n",
    "    g_optimizer=keras.optimizers.Adam(learning_rate=0.0003),\n",
    "    loss_fn=keras.losses.BinaryCrossentropy(from_logits=True)\n",
    ")\n",
    "\n",
    "cond_gan.fit(dataset,epochs=1)"
   ]
  },
  {
   "cell_type": "markdown",
   "id": "e5594d0b-8562-4553-88df-102154998abb",
   "metadata": {
    "jp-MarkdownHeadingCollapsed": true
   },
   "source": [
    "# Interpolating between classes with the trained generator"
   ]
  },
  {
   "cell_type": "code",
   "execution_count": 26,
   "id": "d0bb89f0-f8cf-49ce-9c12-51d46c086297",
   "metadata": {},
   "outputs": [],
   "source": [
    "#extract generator\n",
    "trained_gen = cond_gan.generator\n",
    "\n",
    "num_interpolation = 9\n",
    "\n",
    "#sample noise for interpolation\n",
    "interpolation_noise = keras.random.normal(shape=(1,latent_dim))\n",
    "interpolation_noise = ops.repeat(interpolation_noise,repeats = num_interpolation)\n",
    "interpolation_noise = ops.reshape(interpolation_noise,(num_interpolation,latent_dim))\n",
    "\n",
    "def interpolate_class(first_number,second_number):\n",
    "    first_label = keras.utils.to_categorical([first_number],num_classes)\n",
    "    second_label = keras.utils.to_categorical([second_number],num_classes)\n",
    "    first_label = ops.cast(first_label,\"float32\")\n",
    "    second = ops.cast(second_label,\"float32\")\n",
    "\n",
    "    #calculate interpolation vector bw 2 labels\n",
    "    percent_second_label = ops.linspace(0,1,num_interpolation)[:,None]\n",
    "    percent_second_label = ops.cast(percent_second_label,\"float32\")\n",
    "    interpolation_labels = (\n",
    "        first_label*(1-percent_second_label)+second_label*percent_second_label\n",
    "    )\n",
    "\n",
    "    #combine noise and labels\n",
    "    noise_and_labels = ops.concatenate([interpolation_noise,interpolation_labels],1)\n",
    "    fake = trained_gen.predict(noise_and_labels)\n",
    "    return fake"
   ]
  },
  {
   "cell_type": "code",
   "execution_count": 27,
   "id": "1b935fb9-0308-4c2d-9b20-0e295bf7f641",
   "metadata": {},
   "outputs": [
    {
     "name": "stdout",
     "output_type": "stream",
     "text": [
      "\u001b[1m1/1\u001b[0m \u001b[32m━━━━━━━━━━━━━━━━━━━━\u001b[0m\u001b[37m\u001b[0m \u001b[1m1s\u001b[0m 746ms/step\n"
     ]
    }
   ],
   "source": [
    "start_class = 2\n",
    "end_class=6\n",
    "\n",
    "fake_images = interpolate_class(start_class,end_class)"
   ]
  },
  {
   "cell_type": "markdown",
   "id": "17f331bf-1f56-415b-b526-f5c5274d2dd9",
   "metadata": {},
   "source": [
    "Here, we first sample noise from a normal distribution and then we repeat that for num_interpolation times and reshape the result accordingly. We then distribute it uniformly for num_interpolation with the label identities being present in some proportion."
   ]
  },
  {
   "cell_type": "code",
   "execution_count": 28,
   "id": "07afc279-6c3f-4452-b27e-bb21acb2c81e",
   "metadata": {},
   "outputs": [
    {
     "data": {
      "text/html": [
       "<img src=\"data:image/gif;base64,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\"/>"
      ],
      "text/plain": [
       "<IPython.core.display.HTML object>"
      ]
     },
     "execution_count": 28,
     "metadata": {},
     "output_type": "execute_result"
    }
   ],
   "source": [
    "fake_images *= 255.0\n",
    "converted_images = fake_images.astype(np.uint8)\n",
    "converted_images = ops.image.resize(converted_images, (96, 96)).numpy().astype(np.uint8)\n",
    "imageio.mimsave(\"animation.gif\", converted_images[:, :, :, 0], fps=1)\n",
    "embed.embed_file(\"animation.gif\")"
   ]
  },
  {
   "cell_type": "markdown",
   "id": "2dc37ea3-71da-4350-8445-fd74fabe916b",
   "metadata": {},
   "source": [
    "# Generating image of a Number"
   ]
  },
  {
   "cell_type": "code",
   "execution_count": 67,
   "id": "d8b450fa-59dd-4237-bef2-f5afba48be6d",
   "metadata": {},
   "outputs": [],
   "source": [
    "def generate_output(number,latent_dim =128 ,num_classes = 10):\n",
    "    if number<0 or number>=num_classes:\n",
    "        raise ValueError(f\"Number must be between 0 and {num_classes-1}\")\n",
    "\n",
    "    random_noise = keras.random.normal(shape=(1,latent_dim))\n",
    "\n",
    "    one_hot_label = keras.utils.to_categorical([number],num_classes)\n",
    "    one_hot_label = ops.cast(one_hot_label,\"float32\")\n",
    "\n",
    "    noise_and_labels = keras.ops.concatenate(\n",
    "        [random_noise,one_hot_label],axis=1\n",
    "    )\n",
    "\n",
    "    #generate Image\n",
    "    generated_image = generator(noise_and_labels)\n",
    "\n",
    "    # Scale the generated image to [0, 255]\n",
    "    generated_image = ops.clip(generated_image * 255, 0, 255)\n",
    "    generated_image = ops.cast(generated_image, \"uint8\")\n",
    "    generated_image = generated_image.numpy().squeeze()\n",
    "\n",
    "    return generated_image\n",
    "    "
   ]
  },
  {
   "cell_type": "code",
   "execution_count": 76,
   "id": "6f2b6b8f-ab42-4a09-8cff-8400aacdceb9",
   "metadata": {},
   "outputs": [],
   "source": [
    "generated_image = generate_output(7)"
   ]
  },
  {
   "cell_type": "code",
   "execution_count": 82,
   "id": "f7f5975e-010b-4571-a4c8-7a55a4bd3130",
   "metadata": {},
   "outputs": [
    {
     "data": {
      "image/png": "[encoded data removed]",
      "text/plain": [
       "<Figure size 640x480 with 1 Axes>"
      ]
     },
     "metadata": {},
     "output_type": "display_data"
    }
   ],
   "source": [
    "import matplotlib.pyplot as plt\n",
    "plt.imshow(generated_image,cmap=\"gray\")\n",
    "plt.show()"
   ]
  },
  {
   "cell_type": "code",
   "execution_count": 80,
   "id": "669d2741-91bc-49a4-83de-139d9f457bae",
   "metadata": {},
   "outputs": [],
   "source": [
    "def save_image(image_array, filename):\n",
    "    # Convert the NumPy array to a PIL Image\n",
    "    image = Image.fromarray(image_array)\n",
    "\n",
    "    # Save the image\n",
    "    image.save(filename)"
   ]
  },
  {
   "cell_type": "code",
   "execution_count": 81,
   "id": "4fad270b-56a2-487c-8268-c6bf9e046d15",
   "metadata": {},
   "outputs": [],
   "source": [
    "save_image(generated_image, '7_gen.png')  # Save as PNG"
   ]
  }
 ],
 "metadata": {
  "kernelspec": {
   "display_name": "Python TF(py31)",
   "language": "python",
   "name": "py31"
  },
  "language_info": {
   "codemirror_mode": {
    "name": "ipython",
    "version": 3
   },
   "file_extension": ".py",
   "mimetype": "text/x-python",
   "name": "python",
   "nbconvert_exporter": "python",
   "pygments_lexer": "ipython3",
   "version": "3.11.9"
  }
 },
 "nbformat": 4,
 "nbformat_minor": 5
}
